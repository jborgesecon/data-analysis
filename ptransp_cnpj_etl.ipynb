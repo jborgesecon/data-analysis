{
 "cells": [
  {
   "cell_type": "code",
   "execution_count": 2,
   "metadata": {},
   "outputs": [],
   "source": [
    "import navigation as nav\n",
    "import pandas as pd\n",
    "from glob import glob\n",
    "import zipfile\n",
    "from unidecode import unidecode"
   ]
  },
  {
   "cell_type": "code",
   "execution_count": 6,
   "metadata": {},
   "outputs": [
    {
     "data": {
      "text/plain": [
       "['other_datasets\\\\ptransp_cnpj\\\\Empresas0_2023-05.zip',\n",
       " 'other_datasets\\\\ptransp_cnpj\\\\Empresas0_2023-06.zip',\n",
       " 'other_datasets\\\\ptransp_cnpj\\\\Empresas1_2023-05.zip',\n",
       " 'other_datasets\\\\ptransp_cnpj\\\\Empresas1_2023-06.zip',\n",
       " 'other_datasets\\\\ptransp_cnpj\\\\Empresas2_2023-05.zip',\n",
       " 'other_datasets\\\\ptransp_cnpj\\\\Empresas2_2023-06.zip',\n",
       " 'other_datasets\\\\ptransp_cnpj\\\\Empresas3_2023-05.zip',\n",
       " 'other_datasets\\\\ptransp_cnpj\\\\Empresas3_2023-06.zip',\n",
       " 'other_datasets\\\\ptransp_cnpj\\\\Empresas4_2023-05.zip',\n",
       " 'other_datasets\\\\ptransp_cnpj\\\\Empresas4_2023-06.zip',\n",
       " 'other_datasets\\\\ptransp_cnpj\\\\Empresas5_2023-05.zip',\n",
       " 'other_datasets\\\\ptransp_cnpj\\\\Empresas5_2023-06.zip',\n",
       " 'other_datasets\\\\ptransp_cnpj\\\\Empresas6_2023-05.zip',\n",
       " 'other_datasets\\\\ptransp_cnpj\\\\Empresas6_2023-06.zip',\n",
       " 'other_datasets\\\\ptransp_cnpj\\\\Empresas7_2023-05.zip',\n",
       " 'other_datasets\\\\ptransp_cnpj\\\\Empresas7_2023-06.zip',\n",
       " 'other_datasets\\\\ptransp_cnpj\\\\Empresas8_2023-05.zip',\n",
       " 'other_datasets\\\\ptransp_cnpj\\\\Empresas8_2023-06.zip',\n",
       " 'other_datasets\\\\ptransp_cnpj\\\\Empresas9_2023-05.zip',\n",
       " 'other_datasets\\\\ptransp_cnpj\\\\Empresas9_2023-06.zip']"
      ]
     },
     "execution_count": 6,
     "metadata": {},
     "output_type": "execute_result"
    }
   ],
   "source": [
    "path = 'other_datasets\\\\ptransp_cnpj\\\\*'\n",
    "files = glob(path)\n",
    "empresas = []\n",
    "for file in files:\n",
    "    if file.startswith('other_datasets\\\\ptransp_cnpj\\\\Empresas'):\n",
    "        empresas.append(file)\n",
    "\n",
    "empresas"
   ]
  },
  {
   "cell_type": "code",
   "execution_count": null,
   "metadata": {},
   "outputs": [],
   "source": [
    "for c in empresas:\n",
    "    with zipfile.ZipFile(c, 'r') as zip_ref:\n",
    "        datasets = zip_ref.namelist()\n",
    "        with zip_ref.open(datasets[-1]) as my_file:  # important, for we only want the last .csv withing each .zip\n",
    "            df1 = pd.read_csv(my_file, encoding='latin1', sep=';', dtype='object')\n",
    "            df = pd.concat([df, df1], ignore_index=True)\n",
    "            print(f'{c}: ok!')"
   ]
  },
  {
   "cell_type": "code",
   "execution_count": 13,
   "metadata": {},
   "outputs": [
    {
     "data": {
      "text/plain": [
       "array([nan, 'ESPLANADA - BA', 'CAMPO MAIOR - PI', ..., 'TAQUARA - RS',\n",
       "       'VERA CRUZ - RS', 'VERANOPOLIS - RS'], shape=(3834,), dtype=object)"
      ]
     },
     "execution_count": 13,
     "metadata": {},
     "output_type": "execute_result"
    }
   ],
   "source": [
    "with zipfile.ZipFile(empresas[0], 'r') as zip_ref:\n",
    "    datasets = zip_ref.namelist()\n",
    "    with zip_ref.open(datasets[0]) as file1:\n",
    "        df1 = pd.read_csv(file1, sep=';', dtype='object', names=['cod1', 'razao_social', 'cod2', 'cod3', 'capital_social', 'cod4', 'nsei' ], encoding='latin1')\n",
    "\n",
    "df1['nsei'].unique()"
   ]
  },
  {
   "cell_type": "code",
   "execution_count": null,
   "metadata": {},
   "outputs": [],
   "source": []
  }
 ],
 "metadata": {
  "kernelspec": {
   "display_name": "amelia-env",
   "language": "python",
   "name": "python3"
  },
  "language_info": {
   "codemirror_mode": {
    "name": "ipython",
    "version": 3
   },
   "file_extension": ".py",
   "mimetype": "text/x-python",
   "name": "python",
   "nbconvert_exporter": "python",
   "pygments_lexer": "ipython3",
   "version": "3.11.9"
  }
 },
 "nbformat": 4,
 "nbformat_minor": 2
}
