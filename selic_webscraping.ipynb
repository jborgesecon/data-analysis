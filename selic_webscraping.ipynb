{
 "cells": [
  {
   "cell_type": "code",
   "execution_count": null,
   "id": "3558b3a5-0f14-4024-97da-3259a8d8e40e",
   "metadata": {},
   "outputs": [],
   "source": [
    "import navigation as nav\n",
    "import requests\n",
    "from bs4 import BeautifulSoup\n",
    "import pandas as pd\n",
    "from selenium import webdriver\n",
    "from selenium.webdriver.chrome.service import Service\n",
    "from webdriver_manager.chrome import ChromeDriverManager\n",
    "from io import StringIO\n",
    "import time\n",
    "from datetime import datetime"
   ]
  },
  {
   "cell_type": "code",
   "execution_count": null,
   "id": "95fba1fa-8d67-436d-b195-42120cd2488b",
   "metadata": {},
   "outputs": [],
   "source": [
    "service = Service(ChromeDriverManager().install())\n",
    "driver = webdriver.Chrome(service=service)"
   ]
  },
  {
   "cell_type": "code",
   "execution_count": null,
   "id": "87200f9f-61ae-4917-9882-8b79c7bf0cb3",
   "metadata": {},
   "outputs": [],
   "source": [
    "url = nav.all_datasets['webscraping']['selic_historico']\n",
    "url"
   ]
  },
  {
   "cell_type": "code",
   "execution_count": null,
   "id": "f18b71ff-9a16-476c-abd3-95b9d8aba0ff",
   "metadata": {},
   "outputs": [],
   "source": [
    "driver.get(url)\n",
    "time.sleep(10)\n",
    "driver.title"
   ]
  },
  {
   "cell_type": "code",
   "execution_count": null,
   "id": "10d744c2-ac56-4098-846a-abcef80fdd6e",
   "metadata": {},
   "outputs": [],
   "source": [
    "soup = BeautifulSoup(driver.page_source, 'html.parser')\n",
    "soup"
   ]
  },
  {
   "cell_type": "code",
   "execution_count": null,
   "id": "ea67dfef-0c8f-4963-9653-f45ef89c57eb",
   "metadata": {},
   "outputs": [],
   "source": [
    "table = soup.find('table', {'id': \"historicotaxasjuros\"})\n",
    "table"
   ]
  },
  {
   "cell_type": "code",
   "execution_count": null,
   "id": "8ebb8f8f-09e7-4996-9801-e9d1f8447eb7",
   "metadata": {},
   "outputs": [],
   "source": [
    "html_string = str(table)\n",
    "html_string = html_string.replace(',', '.')\n",
    "df = pd.read_html(StringIO(html_string), header=1)[0]\n",
    "df.dtypes"
   ]
  },
  {
   "cell_type": "code",
   "execution_count": null,
   "id": "9c0eddbe-4e75-4f6f-a799-877ca7ac418a",
   "metadata": {},
   "outputs": [],
   "source": [
    "df.tail()"
   ]
  },
  {
   "cell_type": "code",
   "execution_count": null,
   "id": "4a520c1e-37dc-4a39-b498-4ab4fc00070e",
   "metadata": {},
   "outputs": [],
   "source": [
    "col_rename = [\n",
    "    'numero',\n",
    "    'data',\n",
    "    'vies',\n",
    "    'periodo_vigencia',\n",
    "    'meta_selic',\n",
    "    'TBAN',\n",
    "    'taxa_mensal',\n",
    "    'taxa_acumulado_ano'\n",
    "]\n",
    "df.columns = col_rename\n",
    "df.info()"
   ]
  },
  {
   "cell_type": "code",
   "execution_count": null,
   "id": "ea95353b",
   "metadata": {},
   "outputs": [],
   "source": [
    "df['numero'] = df['numero'].str.replace('Pres. (9)','')\n",
    "df['numero'] = df['numero'].str.replace(' (7)','')\n",
    "df['numero'] = df['numero'].str.replace(' ex. (8)','')\n",
    "df['numero'] = df['numero'].str.replace('ª','')\n",
    "df['numero'] = pd.to_numeric(df['numero'], errors='coerce').fillna(-1).astype('Int64')\n",
    "df['numero'].head()"
   ]
  },
  {
   "cell_type": "code",
   "execution_count": null,
   "id": "837421b4",
   "metadata": {},
   "outputs": [],
   "source": [
    "df['numero'].tail(20)"
   ]
  },
  {
   "cell_type": "code",
   "execution_count": null,
   "id": "6f0f3a8e",
   "metadata": {},
   "outputs": [],
   "source": [
    "def dt_treatment(row):\n",
    "    try:\n",
    "        return pd.to_datetime(row, dayfirst=True)\n",
    "    except ValueError as e:\n",
    "        print(f'Error on {row}: {e}')\n",
    "        return row\n",
    "\n",
    "df['data'] = df['data'].map(dt_treatment)\n",
    "df['data']"
   ]
  },
  {
   "cell_type": "code",
   "execution_count": null,
   "id": "37ae59fb",
   "metadata": {},
   "outputs": [],
   "source": [
    "def split_time_interval(row):\n",
    "    dates = row.split('-')\n",
    "    data_init = (dates[0].strip())\n",
    "    data_fim = (dates[1].strip()) if dates[1] else str(datetime.today().date())#.strftime('%d/%m/%Y')\n",
    "    return pd.Series([data_init, data_fim])\n",
    "\n",
    "df[['data_init', 'data_fim']] = df['periodo_vigencia'].apply(split_time_interval)\n",
    "df[['data_init', 'data_fim']] = df[['data_init', 'data_fim']].map(dt_treatment)\n",
    "cols1 = ['periodo_vigencia','data_init', 'data_fim']\n",
    "df[cols1]"
   ]
  },
  {
   "cell_type": "code",
   "execution_count": null,
   "id": "4cdd20c7",
   "metadata": {},
   "outputs": [],
   "source": [
    "keep = [\n",
    "    'numero',\n",
    "    'data',\n",
    "    'data_init',\n",
    "    'data_fim',\n",
    "    'taxa_mensal',\n",
    "    'taxa_acumulado_ano',\n",
    "    'meta_selic'\n",
    "]\n",
    "df = df[keep]\n",
    "df.head()"
   ]
  },
  {
   "cell_type": "code",
   "execution_count": null,
   "id": "0da2d2c4",
   "metadata": {},
   "outputs": [],
   "source": []
  }
 ],
 "metadata": {
  "kernelspec": {
   "display_name": "jupyter-env",
   "language": "python",
   "name": "python3"
  },
  "language_info": {
   "codemirror_mode": {
    "name": "ipython",
    "version": 3
   },
   "file_extension": ".py",
   "mimetype": "text/x-python",
   "name": "python",
   "nbconvert_exporter": "python",
   "pygments_lexer": "ipython3",
   "version": "3.11.9"
  }
 },
 "nbformat": 4,
 "nbformat_minor": 5
}
