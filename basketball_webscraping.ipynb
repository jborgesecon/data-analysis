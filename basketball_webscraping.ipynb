{
 "cells": [
  {
   "cell_type": "code",
   "execution_count": null,
   "id": "5f46a92b-c53c-4cb2-9f6a-2de08bc54a79",
   "metadata": {},
   "outputs": [],
   "source": [
    "# importing relevant libs\n",
    "import navigation as nav\n",
    "import pandas as pd\n",
    "import seaborn as sns"
   ]
  },
  {
   "cell_type": "code",
   "execution_count": null,
   "id": "84b19c91-63d0-4b3e-b72e-c8c85de1115b",
   "metadata": {},
   "outputs": [],
   "source": [
    "# defining the html url\n",
    "string = nav.all_datasets['webscraping']['basketball']"
   ]
  },
  {
   "cell_type": "code",
   "execution_count": null,
   "id": "6f61c1b5-78d7-4d69-b3f0-6b82e0ae7fa9",
   "metadata": {},
   "outputs": [],
   "source": [
    "url = string.format(2019)\n",
    "collected = pd.read_html(url, header = 0)"
   ]
  },
  {
   "cell_type": "code",
   "execution_count": null,
   "id": "542b2e5d-05bb-40ca-8f7d-e63d3209d5d8",
   "metadata": {},
   "outputs": [],
   "source": [
    "# checking how many tables in the provided url\n",
    "len(collected)"
   ]
  },
  {
   "cell_type": "code",
   "execution_count": null,
   "id": "6f629e11-9362-4637-8ccf-e38340d9fa97",
   "metadata": {},
   "outputs": [],
   "source": [
    "# verify the content of both dfs\n",
    "for i in range(len(collected)):\n",
    "    print(collected[i].info())"
   ]
  },
  {
   "cell_type": "code",
   "execution_count": 54,
   "id": "3e957ac9-7677-4540-a616-5f1bc19a425c",
   "metadata": {},
   "outputs": [
    {
     "name": "stdout",
     "output_type": "stream",
     "text": [
      "<class 'pandas.core.frame.DataFrame'>\n",
      "RangeIndex: 922 entries, 0 to 921\n",
      "Data columns (total 31 columns):\n",
      " #   Column  Non-Null Count  Dtype  \n",
      "---  ------  --------------  -----  \n",
      " 0   Rk      920 non-null    float64\n",
      " 1   Player  922 non-null    object \n",
      " 2   Age     920 non-null    float64\n",
      " 3   Team    920 non-null    object \n",
      " 4   Pos     920 non-null    object \n",
      " 5   G       920 non-null    float64\n",
      " 6   GS      920 non-null    float64\n",
      " 7   MP      920 non-null    float64\n",
      " 8   FG      920 non-null    float64\n",
      " 9   FGA     920 non-null    float64\n",
      " 10  FG%     910 non-null    float64\n",
      " 11  3P      920 non-null    float64\n",
      " 12  3PA     920 non-null    float64\n",
      " 13  3P%     845 non-null    float64\n",
      " 14  2P      920 non-null    float64\n",
      " 15  2PA     920 non-null    float64\n",
      " 16  2P%     900 non-null    float64\n",
      " 17  eFG%    910 non-null    float64\n",
      " 18  FT      920 non-null    float64\n",
      " 19  FTA     920 non-null    float64\n",
      " 20  FT%     849 non-null    float64\n",
      " 21  ORB     920 non-null    float64\n",
      " 22  DRB     920 non-null    float64\n",
      " 23  TRB     920 non-null    float64\n",
      " 24  AST     920 non-null    float64\n",
      " 25  STL     920 non-null    float64\n",
      " 26  BLK     920 non-null    float64\n",
      " 27  TOV     920 non-null    float64\n",
      " 28  PF      920 non-null    float64\n",
      " 29  PTS     920 non-null    float64\n",
      " 30  Awards  57 non-null     object \n",
      "dtypes: float64(27), object(4)\n",
      "memory usage: 223.4+ KB\n",
      "None\n",
      "    Rk                 Player   Age Team Pos     G    GS    MP    FG   FGA  \\\n",
      "0  1.0           James Harden  29.0  HOU  PG  78.0  78.0  36.8  10.8  24.5   \n",
      "1  2.0            Paul George  28.0  OKC  SF  77.0  77.0  36.9   9.2  21.0   \n",
      "2  3.0  Giannis Antetokounmpo  24.0  MIL  PF  72.0  72.0  32.8  10.0  17.3   \n",
      "3  4.0            Joel Embiid  24.0  PHI   C  64.0  64.0  33.7   9.1  18.7   \n",
      "4  5.0           LeBron James  34.0  LAL  SF  55.0  55.0  35.2  10.1  19.9   \n",
      "\n",
      "   ...  ORB   DRB   TRB  AST  STL  BLK  TOV   PF   PTS                Awards  \n",
      "0  ...  0.8   5.8   6.6  7.5  2.0  0.7  5.0  3.1  36.1         MVP-2,AS,NBA1  \n",
      "1  ...  1.4   6.8   8.2  4.1  2.2  0.4  2.7  2.8  28.0  MVP-3,DPOY-3,AS,NBA1  \n",
      "2  ...  2.2  10.3  12.5  5.9  1.3  1.5  3.7  3.2  27.7  MVP-1,DPOY-2,AS,NBA1  \n",
      "3  ...  2.5  11.1  13.6  3.7  0.7  1.9  3.5  3.3  27.5  MVP-7,DPOY-4,AS,NBA2  \n",
      "4  ...  1.0   7.4   8.5  8.3  1.3  0.6  3.6  1.7  27.4        MVP-11,AS,NBA3  \n",
      "\n",
      "[5 rows x 31 columns]\n"
     ]
    }
   ],
   "source": [
    "# unifying both dataframes into a single one\n",
    "df = pd.DataFrame()\n",
    "\n",
    "for i in range(len(collected)):\n",
    "    immediate = pd.DataFrame(collected[i])\n",
    "    df = pd.concat([df, immediate], ignore_index=True)\n",
    "\n",
    "print(df.info())\n",
    "print(df.head())"
   ]
  },
  {
   "cell_type": "code",
   "execution_count": null,
   "id": "bfe961be-3095-4c9c-9495-d645bf1b67cd",
   "metadata": {},
   "outputs": [],
   "source": [
    "# Data Cleansing\n",
    "df = df[df.Age.notna()]\n",
    "df = df.drop_duplicates()\n",
    "df.shape"
   ]
  },
  {
   "cell_type": "code",
   "execution_count": 53,
   "id": "f4e5c172-293d-425b-9264-bd326a3c6621",
   "metadata": {},
   "outputs": [
    {
     "data": {
      "text/plain": [
       "<seaborn.axisgrid.FacetGrid at 0x2499beb4a50>"
      ]
     },
     "execution_count": 53,
     "metadata": {},
     "output_type": "execute_result"
    },
    {
     "data": {
      "image/png": "[encoded data removed]",
      "text/plain": [
       "<Figure size 500x500 with 1 Axes>"
      ]
     },
     "metadata": {},
     "output_type": "display_data"
    }
   ],
   "source": [
    "# Displaying distribution graph with seaborn\n",
    "sns.displot(df.PTS, kde=False, color='#4203ff')"
   ]
  },
  {
   "cell_type": "code",
   "execution_count": null,
   "id": "96427844-4480-4ef1-bf63-1e56e32f1ae7",
   "metadata": {},
   "outputs": [],
   "source": []
  }
 ],
 "metadata": {
  "kernelspec": {
   "display_name": "Python 3 (ipykernel)",
   "language": "python",
   "name": "python3"
  },
  "language_info": {
   "codemirror_mode": {
    "name": "ipython",
    "version": 3
   },
   "file_extension": ".py",
   "mimetype": "text/x-python",
   "name": "python",
   "nbconvert_exporter": "python",
   "pygments_lexer": "ipython3",
   "version": "3.13.1"
  }
 },
 "nbformat": 4,
 "nbformat_minor": 5
}
